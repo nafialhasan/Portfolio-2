{
 "cells": [
  {
   "cell_type": "markdown",
   "id": "Z88FfJc9lA_T",
   "metadata": {
    "id": "Z88FfJc9lA_T"
   },
   "source": [
    "## Analysis of an E-commerce Dataset Part 2"
   ]
  },
  {
   "cell_type": "markdown",
   "id": "hoq0NwA9lA_V",
   "metadata": {
    "id": "hoq0NwA9lA_V"
   },
   "source": [
    "The goal of the second analysis task is to train linear regression models to predict users' ratings towards items. This involves a standard Data Science workflow: exploring data, building models, making predictions, and evaluating results. In this task, we will explore the impacts of feature selections and different sizes of training/testing data on the model performance. We will use another cleaned combined e-commerce sub-dataset that **is different from** the one in “Analysis of an E-commerce Dataset” task 1."
   ]
  },
  {
   "cell_type": "markdown",
   "id": "5acbd7e2-7e8c-45ff-b031-28bdee286fa5",
   "metadata": {},
   "source": [
    "### Name: Nafi Al-Hasan"
   ]
  },
  {
   "cell_type": "code",
   "execution_count": 1,
   "id": "PJrb2gtAlA_W",
   "metadata": {
    "id": "PJrb2gtAlA_W"
   },
   "outputs": [],
   "source": [
    "# Importing all necessary libraries\n",
    "\n",
    "import pandas as pd\n",
    "import numpy as np\n",
    "\n",
    "from sklearn.model_selection import train_test_split\n",
    "from sklearn import linear_model\n",
    "from sklearn.metrics import r2_score\n",
    "from sklearn.preprocessing import OrdinalEncoder\n",
    "\n",
    "import seaborn as sns\n",
    "import matplotlib.pylab as plt\n",
    "%matplotlib inline"
   ]
  },
  {
   "cell_type": "markdown",
   "id": "f9fd3NU_lA_W",
   "metadata": {
    "id": "f9fd3NU_lA_W"
   },
   "source": [
    "### Import Cleaned E-commerce Dataset\n",
    "The csv file named 'cleaned_ecommerce_dataset.csv' is provided. You may need to use the Pandas method, i.e., `read_csv`, for reading it. After that, please print out its total length."
   ]
  },
  {
   "cell_type": "code",
   "execution_count": 2,
   "id": "02254eda-3f7f-4a22-b180-456e735251d2",
   "metadata": {},
   "outputs": [],
   "source": [
    "# Importing the cleaned e-commerce dataset\n",
    "\n",
    "cleaned_ecomm_data = pd.read_csv(\"cleaned_ecommerce_dataset.csv\")"
   ]
  },
  {
   "cell_type": "markdown",
   "id": "aqbuU6rglA_X",
   "metadata": {
    "id": "aqbuU6rglA_X"
   },
   "source": [
    "### Explore the Dataset\n",
    "\n",
    "* Use the methods, i.e., `head()` and `info()`, to have a rough picture about the data, e.g., how many columns, and the data types of each column.\n",
    "* As our goal is to predict ratings given other columns, please get the correlations between helpfulness/gender/category/review and rating by using the `corr()` method.\n",
    "\n",
    "  Hints: To get the correlations between different features, you may need to first convert the categorical features (i.e., gender, category and review) into numerial values. For doing this, you may need to import `OrdinalEncoder` from `sklearn.preprocessing` (refer to the useful exmaples [here](https://pbpython.com/categorical-encoding.html))\n",
    "* Please provide ___necessary explanations/analysis___ on the correlations, and figure out which are the ___most___ and ___least___ corrleated features regarding rating. Try to ___discuss___ how the correlation will affect the final prediction results, if we use these features to train a regression model for rating prediction. In what follows, we will conduct experiments to verify your hypothesis."
   ]
  },
  {
   "cell_type": "code",
   "execution_count": 3,
   "id": "W3PImHiElA_X",
   "metadata": {
    "id": "W3PImHiElA_X"
   },
   "outputs": [
    {
     "data": {
      "text/html": [
       "<div>\n",
       "<style scoped>\n",
       "    .dataframe tbody tr th:only-of-type {\n",
       "        vertical-align: middle;\n",
       "    }\n",
       "\n",
       "    .dataframe tbody tr th {\n",
       "        vertical-align: top;\n",
       "    }\n",
       "\n",
       "    .dataframe thead th {\n",
       "        text-align: right;\n",
       "    }\n",
       "</style>\n",
       "<table border=\"1\" class=\"dataframe\">\n",
       "  <thead>\n",
       "    <tr style=\"text-align: right;\">\n",
       "      <th></th>\n",
       "      <th>userId</th>\n",
       "      <th>timestamp</th>\n",
       "      <th>review</th>\n",
       "      <th>item</th>\n",
       "      <th>rating</th>\n",
       "      <th>helpfulness</th>\n",
       "      <th>gender</th>\n",
       "      <th>category</th>\n",
       "      <th>item_id</th>\n",
       "      <th>item_price</th>\n",
       "      <th>user_city</th>\n",
       "    </tr>\n",
       "  </thead>\n",
       "  <tbody>\n",
       "    <tr>\n",
       "      <th>0</th>\n",
       "      <td>4081</td>\n",
       "      <td>71900</td>\n",
       "      <td>Not always McCrap</td>\n",
       "      <td>McDonald's</td>\n",
       "      <td>4.0</td>\n",
       "      <td>3.0</td>\n",
       "      <td>M</td>\n",
       "      <td>Restaurants &amp; Gourmet</td>\n",
       "      <td>41</td>\n",
       "      <td>30.74</td>\n",
       "      <td>4</td>\n",
       "    </tr>\n",
       "    <tr>\n",
       "      <th>1</th>\n",
       "      <td>4081</td>\n",
       "      <td>72000</td>\n",
       "      <td>I dropped the chalupa even before he told me to</td>\n",
       "      <td>Taco Bell</td>\n",
       "      <td>1.0</td>\n",
       "      <td>4.0</td>\n",
       "      <td>M</td>\n",
       "      <td>Restaurants &amp; Gourmet</td>\n",
       "      <td>74</td>\n",
       "      <td>108.30</td>\n",
       "      <td>4</td>\n",
       "    </tr>\n",
       "    <tr>\n",
       "      <th>2</th>\n",
       "      <td>4081</td>\n",
       "      <td>72000</td>\n",
       "      <td>The Wonderful World of Wendy</td>\n",
       "      <td>Wendy's</td>\n",
       "      <td>5.0</td>\n",
       "      <td>4.0</td>\n",
       "      <td>M</td>\n",
       "      <td>Restaurants &amp; Gourmet</td>\n",
       "      <td>84</td>\n",
       "      <td>69.00</td>\n",
       "      <td>4</td>\n",
       "    </tr>\n",
       "    <tr>\n",
       "      <th>3</th>\n",
       "      <td>4081</td>\n",
       "      <td>100399</td>\n",
       "      <td>They actually did it</td>\n",
       "      <td>South Park: Bigger, Longer &amp; Uncut</td>\n",
       "      <td>5.0</td>\n",
       "      <td>3.0</td>\n",
       "      <td>M</td>\n",
       "      <td>Movies</td>\n",
       "      <td>68</td>\n",
       "      <td>143.11</td>\n",
       "      <td>4</td>\n",
       "    </tr>\n",
       "    <tr>\n",
       "      <th>4</th>\n",
       "      <td>4081</td>\n",
       "      <td>100399</td>\n",
       "      <td>Hey! Gimme some pie!</td>\n",
       "      <td>American Pie</td>\n",
       "      <td>3.0</td>\n",
       "      <td>3.0</td>\n",
       "      <td>M</td>\n",
       "      <td>Movies</td>\n",
       "      <td>6</td>\n",
       "      <td>117.89</td>\n",
       "      <td>4</td>\n",
       "    </tr>\n",
       "  </tbody>\n",
       "</table>\n",
       "</div>"
      ],
      "text/plain": [
       "   userId  timestamp                                           review  \\\n",
       "0    4081      71900                                Not always McCrap   \n",
       "1    4081      72000  I dropped the chalupa even before he told me to   \n",
       "2    4081      72000                     The Wonderful World of Wendy   \n",
       "3    4081     100399                             They actually did it   \n",
       "4    4081     100399                             Hey! Gimme some pie!   \n",
       "\n",
       "                                 item  rating  helpfulness gender  \\\n",
       "0                          McDonald's     4.0          3.0      M   \n",
       "1                           Taco Bell     1.0          4.0      M   \n",
       "2                             Wendy's     5.0          4.0      M   \n",
       "3  South Park: Bigger, Longer & Uncut     5.0          3.0      M   \n",
       "4                        American Pie     3.0          3.0      M   \n",
       "\n",
       "                category  item_id  item_price  user_city  \n",
       "0  Restaurants & Gourmet       41       30.74          4  \n",
       "1  Restaurants & Gourmet       74      108.30          4  \n",
       "2  Restaurants & Gourmet       84       69.00          4  \n",
       "3                 Movies       68      143.11          4  \n",
       "4                 Movies        6      117.89          4  "
      ]
     },
     "execution_count": 3,
     "metadata": {},
     "output_type": "execute_result"
    }
   ],
   "source": [
    "# Finding the first 5 rows of the dataset using head() function\n",
    "\n",
    "cleaned_ecomm_data.head()"
   ]
  },
  {
   "cell_type": "code",
   "execution_count": 4,
   "id": "503243c9-e318-4342-be25-e775d30b9998",
   "metadata": {},
   "outputs": [
    {
     "data": {
      "text/html": [
       "<div>\n",
       "<style scoped>\n",
       "    .dataframe tbody tr th:only-of-type {\n",
       "        vertical-align: middle;\n",
       "    }\n",
       "\n",
       "    .dataframe tbody tr th {\n",
       "        vertical-align: top;\n",
       "    }\n",
       "\n",
       "    .dataframe thead th {\n",
       "        text-align: right;\n",
       "    }\n",
       "</style>\n",
       "<table border=\"1\" class=\"dataframe\">\n",
       "  <thead>\n",
       "    <tr style=\"text-align: right;\">\n",
       "      <th></th>\n",
       "      <th>userId</th>\n",
       "      <th>timestamp</th>\n",
       "      <th>review</th>\n",
       "      <th>item</th>\n",
       "      <th>rating</th>\n",
       "      <th>helpfulness</th>\n",
       "      <th>gender</th>\n",
       "      <th>category</th>\n",
       "      <th>item_id</th>\n",
       "      <th>item_price</th>\n",
       "      <th>user_city</th>\n",
       "    </tr>\n",
       "  </thead>\n",
       "  <tbody>\n",
       "    <tr>\n",
       "      <th>2680</th>\n",
       "      <td>2445</td>\n",
       "      <td>22000</td>\n",
       "      <td>Great movie!</td>\n",
       "      <td>Austin Powers: The Spy Who Shagged Me</td>\n",
       "      <td>5.0</td>\n",
       "      <td>3.0</td>\n",
       "      <td>M</td>\n",
       "      <td>Movies</td>\n",
       "      <td>9</td>\n",
       "      <td>111.00</td>\n",
       "      <td>5</td>\n",
       "    </tr>\n",
       "    <tr>\n",
       "      <th>2681</th>\n",
       "      <td>2445</td>\n",
       "      <td>30700</td>\n",
       "      <td>Good food!</td>\n",
       "      <td>Outback Steakhouse</td>\n",
       "      <td>5.0</td>\n",
       "      <td>3.0</td>\n",
       "      <td>M</td>\n",
       "      <td>Restaurants &amp; Gourmet</td>\n",
       "      <td>50</td>\n",
       "      <td>25.00</td>\n",
       "      <td>5</td>\n",
       "    </tr>\n",
       "    <tr>\n",
       "      <th>2682</th>\n",
       "      <td>2445</td>\n",
       "      <td>61500</td>\n",
       "      <td>Great movie!</td>\n",
       "      <td>Fight Club</td>\n",
       "      <td>5.0</td>\n",
       "      <td>3.0</td>\n",
       "      <td>M</td>\n",
       "      <td>Movies</td>\n",
       "      <td>26</td>\n",
       "      <td>97.53</td>\n",
       "      <td>5</td>\n",
       "    </tr>\n",
       "    <tr>\n",
       "      <th>2683</th>\n",
       "      <td>2445</td>\n",
       "      <td>100500</td>\n",
       "      <td>Awesome Game.</td>\n",
       "      <td>The Sims 2: Open for Business for Windows</td>\n",
       "      <td>5.0</td>\n",
       "      <td>4.0</td>\n",
       "      <td>M</td>\n",
       "      <td>Games</td>\n",
       "      <td>79</td>\n",
       "      <td>27.00</td>\n",
       "      <td>5</td>\n",
       "    </tr>\n",
       "    <tr>\n",
       "      <th>2684</th>\n",
       "      <td>2445</td>\n",
       "      <td>101400</td>\n",
       "      <td>Great Service.</td>\n",
       "      <td>PayPal</td>\n",
       "      <td>5.0</td>\n",
       "      <td>3.0</td>\n",
       "      <td>M</td>\n",
       "      <td>Personal Finance</td>\n",
       "      <td>52</td>\n",
       "      <td>38.00</td>\n",
       "      <td>5</td>\n",
       "    </tr>\n",
       "  </tbody>\n",
       "</table>\n",
       "</div>"
      ],
      "text/plain": [
       "      userId  timestamp          review  \\\n",
       "2680    2445      22000    Great movie!   \n",
       "2681    2445      30700      Good food!   \n",
       "2682    2445      61500    Great movie!   \n",
       "2683    2445     100500   Awesome Game.   \n",
       "2684    2445     101400  Great Service.   \n",
       "\n",
       "                                           item  rating  helpfulness gender  \\\n",
       "2680      Austin Powers: The Spy Who Shagged Me     5.0          3.0      M   \n",
       "2681                         Outback Steakhouse     5.0          3.0      M   \n",
       "2682                                 Fight Club     5.0          3.0      M   \n",
       "2683  The Sims 2: Open for Business for Windows     5.0          4.0      M   \n",
       "2684                                     PayPal     5.0          3.0      M   \n",
       "\n",
       "                   category  item_id  item_price  user_city  \n",
       "2680                 Movies        9      111.00          5  \n",
       "2681  Restaurants & Gourmet       50       25.00          5  \n",
       "2682                 Movies       26       97.53          5  \n",
       "2683                  Games       79       27.00          5  \n",
       "2684       Personal Finance       52       38.00          5  "
      ]
     },
     "execution_count": 4,
     "metadata": {},
     "output_type": "execute_result"
    }
   ],
   "source": [
    "# Finding the last 5 rows of the dataset using tail() function\n",
    "\n",
    "cleaned_ecomm_data.tail()"
   ]
  },
  {
   "cell_type": "code",
   "execution_count": 5,
   "id": "ef2a492e-23ef-4746-98c6-e04e9362497b",
   "metadata": {},
   "outputs": [
    {
     "name": "stdout",
     "output_type": "stream",
     "text": [
      "<class 'pandas.core.frame.DataFrame'>\n",
      "RangeIndex: 2685 entries, 0 to 2684\n",
      "Data columns (total 11 columns):\n",
      " #   Column       Non-Null Count  Dtype  \n",
      "---  ------       --------------  -----  \n",
      " 0   userId       2685 non-null   int64  \n",
      " 1   timestamp    2685 non-null   int64  \n",
      " 2   review       2685 non-null   object \n",
      " 3   item         2685 non-null   object \n",
      " 4   rating       2685 non-null   float64\n",
      " 5   helpfulness  2685 non-null   float64\n",
      " 6   gender       2685 non-null   object \n",
      " 7   category     2685 non-null   object \n",
      " 8   item_id      2685 non-null   int64  \n",
      " 9   item_price   2685 non-null   float64\n",
      " 10  user_city    2685 non-null   int64  \n",
      "dtypes: float64(3), int64(4), object(4)\n",
      "memory usage: 230.9+ KB\n"
     ]
    }
   ],
   "source": [
    "# Finding the data types and columns of the dataset using info() function\n",
    "\n",
    "cleaned_ecomm_data.info()"
   ]
  },
  {
   "cell_type": "code",
   "execution_count": 6,
   "id": "0736a6bf-b5a5-4f0b-bfbe-09c3911552fd",
   "metadata": {},
   "outputs": [
    {
     "data": {
      "text/html": [
       "<div>\n",
       "<style scoped>\n",
       "    .dataframe tbody tr th:only-of-type {\n",
       "        vertical-align: middle;\n",
       "    }\n",
       "\n",
       "    .dataframe tbody tr th {\n",
       "        vertical-align: top;\n",
       "    }\n",
       "\n",
       "    .dataframe thead th {\n",
       "        text-align: right;\n",
       "    }\n",
       "</style>\n",
       "<table border=\"1\" class=\"dataframe\">\n",
       "  <thead>\n",
       "    <tr style=\"text-align: right;\">\n",
       "      <th></th>\n",
       "      <th>userId</th>\n",
       "      <th>timestamp</th>\n",
       "      <th>rating</th>\n",
       "      <th>helpfulness</th>\n",
       "      <th>item_id</th>\n",
       "      <th>item_price</th>\n",
       "      <th>user_city</th>\n",
       "    </tr>\n",
       "  </thead>\n",
       "  <tbody>\n",
       "    <tr>\n",
       "      <th>count</th>\n",
       "      <td>2685.000000</td>\n",
       "      <td>2685.000000</td>\n",
       "      <td>2685.000000</td>\n",
       "      <td>2685.000000</td>\n",
       "      <td>2685.000000</td>\n",
       "      <td>2685.000000</td>\n",
       "      <td>2685.000000</td>\n",
       "    </tr>\n",
       "    <tr>\n",
       "      <th>mean</th>\n",
       "      <td>4673.237616</td>\n",
       "      <td>58812.687151</td>\n",
       "      <td>3.705028</td>\n",
       "      <td>3.908007</td>\n",
       "      <td>43.478585</td>\n",
       "      <td>83.091650</td>\n",
       "      <td>19.456983</td>\n",
       "    </tr>\n",
       "    <tr>\n",
       "      <th>std</th>\n",
       "      <td>3517.893437</td>\n",
       "      <td>37013.726118</td>\n",
       "      <td>1.346240</td>\n",
       "      <td>0.289069</td>\n",
       "      <td>26.630426</td>\n",
       "      <td>42.227558</td>\n",
       "      <td>11.397281</td>\n",
       "    </tr>\n",
       "    <tr>\n",
       "      <th>min</th>\n",
       "      <td>4.000000</td>\n",
       "      <td>10100.000000</td>\n",
       "      <td>1.000000</td>\n",
       "      <td>3.000000</td>\n",
       "      <td>0.000000</td>\n",
       "      <td>12.000000</td>\n",
       "      <td>0.000000</td>\n",
       "    </tr>\n",
       "    <tr>\n",
       "      <th>25%</th>\n",
       "      <td>1310.000000</td>\n",
       "      <td>22000.000000</td>\n",
       "      <td>3.000000</td>\n",
       "      <td>4.000000</td>\n",
       "      <td>21.000000</td>\n",
       "      <td>49.000000</td>\n",
       "      <td>9.000000</td>\n",
       "    </tr>\n",
       "    <tr>\n",
       "      <th>50%</th>\n",
       "      <td>4666.000000</td>\n",
       "      <td>52800.000000</td>\n",
       "      <td>4.000000</td>\n",
       "      <td>4.000000</td>\n",
       "      <td>42.000000</td>\n",
       "      <td>73.650000</td>\n",
       "      <td>19.000000</td>\n",
       "    </tr>\n",
       "    <tr>\n",
       "      <th>75%</th>\n",
       "      <td>7651.000000</td>\n",
       "      <td>91000.000000</td>\n",
       "      <td>5.000000</td>\n",
       "      <td>4.000000</td>\n",
       "      <td>67.000000</td>\n",
       "      <td>129.820000</td>\n",
       "      <td>28.000000</td>\n",
       "    </tr>\n",
       "    <tr>\n",
       "      <th>max</th>\n",
       "      <td>10779.000000</td>\n",
       "      <td>123199.000000</td>\n",
       "      <td>5.000000</td>\n",
       "      <td>4.000000</td>\n",
       "      <td>88.000000</td>\n",
       "      <td>149.000000</td>\n",
       "      <td>39.000000</td>\n",
       "    </tr>\n",
       "  </tbody>\n",
       "</table>\n",
       "</div>"
      ],
      "text/plain": [
       "             userId      timestamp       rating  helpfulness      item_id  \\\n",
       "count   2685.000000    2685.000000  2685.000000  2685.000000  2685.000000   \n",
       "mean    4673.237616   58812.687151     3.705028     3.908007    43.478585   \n",
       "std     3517.893437   37013.726118     1.346240     0.289069    26.630426   \n",
       "min        4.000000   10100.000000     1.000000     3.000000     0.000000   \n",
       "25%     1310.000000   22000.000000     3.000000     4.000000    21.000000   \n",
       "50%     4666.000000   52800.000000     4.000000     4.000000    42.000000   \n",
       "75%     7651.000000   91000.000000     5.000000     4.000000    67.000000   \n",
       "max    10779.000000  123199.000000     5.000000     4.000000    88.000000   \n",
       "\n",
       "        item_price    user_city  \n",
       "count  2685.000000  2685.000000  \n",
       "mean     83.091650    19.456983  \n",
       "std      42.227558    11.397281  \n",
       "min      12.000000     0.000000  \n",
       "25%      49.000000     9.000000  \n",
       "50%      73.650000    19.000000  \n",
       "75%     129.820000    28.000000  \n",
       "max     149.000000    39.000000  "
      ]
     },
     "execution_count": 6,
     "metadata": {},
     "output_type": "execute_result"
    }
   ],
   "source": [
    "# Finding the descriptive statistics of the dataset\n",
    "\n",
    "cleaned_ecomm_data.describe()"
   ]
  },
  {
   "cell_type": "code",
   "execution_count": 7,
   "id": "ce0564db-1cc9-420d-862f-75a1178523dc",
   "metadata": {},
   "outputs": [
    {
     "name": "stdout",
     "output_type": "stream",
     "text": [
      "The number of records in the dataset: 2685\n"
     ]
    }
   ],
   "source": [
    "# Finding the number of records in the dataset\n",
    "\n",
    "print(\"The number of records in the dataset:\", len(cleaned_ecomm_data))"
   ]
  },
  {
   "cell_type": "code",
   "execution_count": 8,
   "id": "c3d70be5-2d50-4062-9601-a7b3d37f88bc",
   "metadata": {},
   "outputs": [
    {
     "data": {
      "text/plain": [
       "(2685, 11)"
      ]
     },
     "execution_count": 8,
     "metadata": {},
     "output_type": "execute_result"
    }
   ],
   "source": [
    "# Finding the number of records and columns in the dataset\n",
    "\n",
    "cleaned_ecomm_data.shape"
   ]
  },
  {
   "cell_type": "code",
   "execution_count": 9,
   "id": "3d547d5b-b030-4ede-bd03-4a9abac48a63",
   "metadata": {},
   "outputs": [
    {
     "data": {
      "text/plain": [
       "Index(['userId', 'timestamp', 'review', 'item', 'rating', 'helpfulness',\n",
       "       'gender', 'category', 'item_id', 'item_price', 'user_city'],\n",
       "      dtype='object')"
      ]
     },
     "execution_count": 9,
     "metadata": {},
     "output_type": "execute_result"
    }
   ],
   "source": [
    "# Finding the names of the columns\n",
    "\n",
    "cleaned_ecomm_data.columns"
   ]
  },
  {
   "cell_type": "code",
   "execution_count": 10,
   "id": "78928f55-85c0-4c7f-aaa7-2de141459129",
   "metadata": {},
   "outputs": [
    {
     "data": {
      "text/html": [
       "<div>\n",
       "<style scoped>\n",
       "    .dataframe tbody tr th:only-of-type {\n",
       "        vertical-align: middle;\n",
       "    }\n",
       "\n",
       "    .dataframe tbody tr th {\n",
       "        vertical-align: top;\n",
       "    }\n",
       "\n",
       "    .dataframe thead th {\n",
       "        text-align: right;\n",
       "    }\n",
       "</style>\n",
       "<table border=\"1\" class=\"dataframe\">\n",
       "  <thead>\n",
       "    <tr style=\"text-align: right;\">\n",
       "      <th></th>\n",
       "      <th>userId</th>\n",
       "      <th>timestamp</th>\n",
       "      <th>review</th>\n",
       "      <th>item</th>\n",
       "      <th>rating</th>\n",
       "      <th>helpfulness</th>\n",
       "      <th>gender</th>\n",
       "      <th>category</th>\n",
       "      <th>item_id</th>\n",
       "      <th>item_price</th>\n",
       "      <th>user_city</th>\n",
       "    </tr>\n",
       "  </thead>\n",
       "  <tbody>\n",
       "    <tr>\n",
       "      <th>0</th>\n",
       "      <td>4081</td>\n",
       "      <td>71900</td>\n",
       "      <td>1618.0</td>\n",
       "      <td>37.0</td>\n",
       "      <td>4.0</td>\n",
       "      <td>3.0</td>\n",
       "      <td>1.0</td>\n",
       "      <td>8.0</td>\n",
       "      <td>41</td>\n",
       "      <td>30.74</td>\n",
       "      <td>4</td>\n",
       "    </tr>\n",
       "    <tr>\n",
       "      <th>1</th>\n",
       "      <td>4081</td>\n",
       "      <td>72000</td>\n",
       "      <td>1125.0</td>\n",
       "      <td>67.0</td>\n",
       "      <td>1.0</td>\n",
       "      <td>4.0</td>\n",
       "      <td>1.0</td>\n",
       "      <td>8.0</td>\n",
       "      <td>74</td>\n",
       "      <td>108.30</td>\n",
       "      <td>4</td>\n",
       "    </tr>\n",
       "    <tr>\n",
       "      <th>2</th>\n",
       "      <td>4081</td>\n",
       "      <td>72000</td>\n",
       "      <td>2185.0</td>\n",
       "      <td>77.0</td>\n",
       "      <td>5.0</td>\n",
       "      <td>4.0</td>\n",
       "      <td>1.0</td>\n",
       "      <td>8.0</td>\n",
       "      <td>84</td>\n",
       "      <td>69.00</td>\n",
       "      <td>4</td>\n",
       "    </tr>\n",
       "    <tr>\n",
       "      <th>3</th>\n",
       "      <td>4081</td>\n",
       "      <td>100399</td>\n",
       "      <td>2243.0</td>\n",
       "      <td>61.0</td>\n",
       "      <td>5.0</td>\n",
       "      <td>3.0</td>\n",
       "      <td>1.0</td>\n",
       "      <td>5.0</td>\n",
       "      <td>68</td>\n",
       "      <td>143.11</td>\n",
       "      <td>4</td>\n",
       "    </tr>\n",
       "    <tr>\n",
       "      <th>4</th>\n",
       "      <td>4081</td>\n",
       "      <td>100399</td>\n",
       "      <td>1033.0</td>\n",
       "      <td>5.0</td>\n",
       "      <td>3.0</td>\n",
       "      <td>3.0</td>\n",
       "      <td>1.0</td>\n",
       "      <td>5.0</td>\n",
       "      <td>6</td>\n",
       "      <td>117.89</td>\n",
       "      <td>4</td>\n",
       "    </tr>\n",
       "    <tr>\n",
       "      <th>...</th>\n",
       "      <td>...</td>\n",
       "      <td>...</td>\n",
       "      <td>...</td>\n",
       "      <td>...</td>\n",
       "      <td>...</td>\n",
       "      <td>...</td>\n",
       "      <td>...</td>\n",
       "      <td>...</td>\n",
       "      <td>...</td>\n",
       "      <td>...</td>\n",
       "      <td>...</td>\n",
       "    </tr>\n",
       "    <tr>\n",
       "      <th>2680</th>\n",
       "      <td>2445</td>\n",
       "      <td>22000</td>\n",
       "      <td>968.0</td>\n",
       "      <td>8.0</td>\n",
       "      <td>5.0</td>\n",
       "      <td>3.0</td>\n",
       "      <td>1.0</td>\n",
       "      <td>5.0</td>\n",
       "      <td>9</td>\n",
       "      <td>111.00</td>\n",
       "      <td>5</td>\n",
       "    </tr>\n",
       "    <tr>\n",
       "      <th>2681</th>\n",
       "      <td>2445</td>\n",
       "      <td>30700</td>\n",
       "      <td>920.0</td>\n",
       "      <td>45.0</td>\n",
       "      <td>5.0</td>\n",
       "      <td>3.0</td>\n",
       "      <td>1.0</td>\n",
       "      <td>8.0</td>\n",
       "      <td>50</td>\n",
       "      <td>25.00</td>\n",
       "      <td>5</td>\n",
       "    </tr>\n",
       "    <tr>\n",
       "      <th>2682</th>\n",
       "      <td>2445</td>\n",
       "      <td>61500</td>\n",
       "      <td>968.0</td>\n",
       "      <td>24.0</td>\n",
       "      <td>5.0</td>\n",
       "      <td>3.0</td>\n",
       "      <td>1.0</td>\n",
       "      <td>5.0</td>\n",
       "      <td>26</td>\n",
       "      <td>97.53</td>\n",
       "      <td>5</td>\n",
       "    </tr>\n",
       "    <tr>\n",
       "      <th>2683</th>\n",
       "      <td>2445</td>\n",
       "      <td>100500</td>\n",
       "      <td>372.0</td>\n",
       "      <td>72.0</td>\n",
       "      <td>5.0</td>\n",
       "      <td>4.0</td>\n",
       "      <td>1.0</td>\n",
       "      <td>1.0</td>\n",
       "      <td>79</td>\n",
       "      <td>27.00</td>\n",
       "      <td>5</td>\n",
       "    </tr>\n",
       "    <tr>\n",
       "      <th>2684</th>\n",
       "      <td>2445</td>\n",
       "      <td>101400</td>\n",
       "      <td>959.0</td>\n",
       "      <td>47.0</td>\n",
       "      <td>5.0</td>\n",
       "      <td>3.0</td>\n",
       "      <td>1.0</td>\n",
       "      <td>7.0</td>\n",
       "      <td>52</td>\n",
       "      <td>38.00</td>\n",
       "      <td>5</td>\n",
       "    </tr>\n",
       "  </tbody>\n",
       "</table>\n",
       "<p>2685 rows × 11 columns</p>\n",
       "</div>"
      ],
      "text/plain": [
       "      userId  timestamp  review  item  rating  helpfulness  gender  category  \\\n",
       "0       4081      71900  1618.0  37.0     4.0          3.0     1.0       8.0   \n",
       "1       4081      72000  1125.0  67.0     1.0          4.0     1.0       8.0   \n",
       "2       4081      72000  2185.0  77.0     5.0          4.0     1.0       8.0   \n",
       "3       4081     100399  2243.0  61.0     5.0          3.0     1.0       5.0   \n",
       "4       4081     100399  1033.0   5.0     3.0          3.0     1.0       5.0   \n",
       "...      ...        ...     ...   ...     ...          ...     ...       ...   \n",
       "2680    2445      22000   968.0   8.0     5.0          3.0     1.0       5.0   \n",
       "2681    2445      30700   920.0  45.0     5.0          3.0     1.0       8.0   \n",
       "2682    2445      61500   968.0  24.0     5.0          3.0     1.0       5.0   \n",
       "2683    2445     100500   372.0  72.0     5.0          4.0     1.0       1.0   \n",
       "2684    2445     101400   959.0  47.0     5.0          3.0     1.0       7.0   \n",
       "\n",
       "      item_id  item_price  user_city  \n",
       "0          41       30.74          4  \n",
       "1          74      108.30          4  \n",
       "2          84       69.00          4  \n",
       "3          68      143.11          4  \n",
       "4           6      117.89          4  \n",
       "...       ...         ...        ...  \n",
       "2680        9      111.00          5  \n",
       "2681       50       25.00          5  \n",
       "2682       26       97.53          5  \n",
       "2683       79       27.00          5  \n",
       "2684       52       38.00          5  \n",
       "\n",
       "[2685 rows x 11 columns]"
      ]
     },
     "metadata": {},
     "output_type": "display_data"
    }
   ],
   "source": [
    "# Converting categorical data into its numeric form \n",
    "\n",
    "encoder = OrdinalEncoder()\n",
    "categorical_columns = [\"gender\", \"item\", \"category\", \"review\"]\n",
    "cleaned_ecomm_data[categorical_columns] = encoder.fit_transform(cleaned_ecomm_data[categorical_columns])\n",
    "display(cleaned_ecomm_data)"
   ]
  },
  {
   "cell_type": "code",
   "execution_count": 11,
   "id": "792f6f71-f351-4864-8c9f-4bfdc2a9a1cf",
   "metadata": {},
   "outputs": [
    {
     "data": {
      "text/html": [
       "<div>\n",
       "<style scoped>\n",
       "    .dataframe tbody tr th:only-of-type {\n",
       "        vertical-align: middle;\n",
       "    }\n",
       "\n",
       "    .dataframe tbody tr th {\n",
       "        vertical-align: top;\n",
       "    }\n",
       "\n",
       "    .dataframe thead th {\n",
       "        text-align: right;\n",
       "    }\n",
       "</style>\n",
       "<table border=\"1\" class=\"dataframe\">\n",
       "  <thead>\n",
       "    <tr style=\"text-align: right;\">\n",
       "      <th></th>\n",
       "      <th>userId</th>\n",
       "      <th>timestamp</th>\n",
       "      <th>review</th>\n",
       "      <th>item</th>\n",
       "      <th>rating</th>\n",
       "      <th>helpfulness</th>\n",
       "      <th>gender</th>\n",
       "      <th>category</th>\n",
       "      <th>item_id</th>\n",
       "      <th>item_price</th>\n",
       "      <th>user_city</th>\n",
       "    </tr>\n",
       "  </thead>\n",
       "  <tbody>\n",
       "    <tr>\n",
       "      <th>userId</th>\n",
       "      <td>1.000000</td>\n",
       "      <td>-0.069176</td>\n",
       "      <td>0.007139</td>\n",
       "      <td>-0.005513</td>\n",
       "      <td>0.032506</td>\n",
       "      <td>-0.166136</td>\n",
       "      <td>-0.058324</td>\n",
       "      <td>-0.041362</td>\n",
       "      <td>-0.005549</td>\n",
       "      <td>0.024576</td>\n",
       "      <td>-0.030031</td>\n",
       "    </tr>\n",
       "    <tr>\n",
       "      <th>timestamp</th>\n",
       "      <td>-0.069176</td>\n",
       "      <td>1.000000</td>\n",
       "      <td>0.007029</td>\n",
       "      <td>-0.003543</td>\n",
       "      <td>0.000369</td>\n",
       "      <td>0.014179</td>\n",
       "      <td>-0.003367</td>\n",
       "      <td>0.015009</td>\n",
       "      <td>-0.004452</td>\n",
       "      <td>0.010979</td>\n",
       "      <td>-0.014934</td>\n",
       "    </tr>\n",
       "    <tr>\n",
       "      <th>review</th>\n",
       "      <td>0.007139</td>\n",
       "      <td>0.007029</td>\n",
       "      <td>1.000000</td>\n",
       "      <td>0.163090</td>\n",
       "      <td>-0.036118</td>\n",
       "      <td>-0.028259</td>\n",
       "      <td>-0.037884</td>\n",
       "      <td>0.001970</td>\n",
       "      <td>0.163544</td>\n",
       "      <td>-0.041421</td>\n",
       "      <td>0.045626</td>\n",
       "    </tr>\n",
       "    <tr>\n",
       "      <th>item</th>\n",
       "      <td>-0.005513</td>\n",
       "      <td>-0.003543</td>\n",
       "      <td>0.163090</td>\n",
       "      <td>1.000000</td>\n",
       "      <td>0.043388</td>\n",
       "      <td>-0.020433</td>\n",
       "      <td>0.001925</td>\n",
       "      <td>-0.045988</td>\n",
       "      <td>0.999765</td>\n",
       "      <td>-0.049885</td>\n",
       "      <td>-0.005220</td>\n",
       "    </tr>\n",
       "    <tr>\n",
       "      <th>rating</th>\n",
       "      <td>0.032506</td>\n",
       "      <td>0.000369</td>\n",
       "      <td>-0.036118</td>\n",
       "      <td>0.043388</td>\n",
       "      <td>1.000000</td>\n",
       "      <td>-0.007523</td>\n",
       "      <td>-0.034337</td>\n",
       "      <td>-0.163158</td>\n",
       "      <td>0.042890</td>\n",
       "      <td>0.027374</td>\n",
       "      <td>-0.028825</td>\n",
       "    </tr>\n",
       "    <tr>\n",
       "      <th>helpfulness</th>\n",
       "      <td>-0.166136</td>\n",
       "      <td>0.014179</td>\n",
       "      <td>-0.028259</td>\n",
       "      <td>-0.020433</td>\n",
       "      <td>-0.007523</td>\n",
       "      <td>1.000000</td>\n",
       "      <td>0.075947</td>\n",
       "      <td>-0.013408</td>\n",
       "      <td>-0.019882</td>\n",
       "      <td>0.004112</td>\n",
       "      <td>0.012086</td>\n",
       "    </tr>\n",
       "    <tr>\n",
       "      <th>gender</th>\n",
       "      <td>-0.058324</td>\n",
       "      <td>-0.003367</td>\n",
       "      <td>-0.037884</td>\n",
       "      <td>0.001925</td>\n",
       "      <td>-0.034337</td>\n",
       "      <td>0.075947</td>\n",
       "      <td>1.000000</td>\n",
       "      <td>0.022549</td>\n",
       "      <td>0.002370</td>\n",
       "      <td>-0.040596</td>\n",
       "      <td>-0.065638</td>\n",
       "    </tr>\n",
       "    <tr>\n",
       "      <th>category</th>\n",
       "      <td>-0.041362</td>\n",
       "      <td>0.015009</td>\n",
       "      <td>0.001970</td>\n",
       "      <td>-0.045988</td>\n",
       "      <td>-0.163158</td>\n",
       "      <td>-0.013408</td>\n",
       "      <td>0.022549</td>\n",
       "      <td>1.000000</td>\n",
       "      <td>-0.045268</td>\n",
       "      <td>-0.115571</td>\n",
       "      <td>0.008017</td>\n",
       "    </tr>\n",
       "    <tr>\n",
       "      <th>item_id</th>\n",
       "      <td>-0.005549</td>\n",
       "      <td>-0.004452</td>\n",
       "      <td>0.163544</td>\n",
       "      <td>0.999765</td>\n",
       "      <td>0.042890</td>\n",
       "      <td>-0.019882</td>\n",
       "      <td>0.002370</td>\n",
       "      <td>-0.045268</td>\n",
       "      <td>1.000000</td>\n",
       "      <td>-0.054450</td>\n",
       "      <td>-0.005576</td>\n",
       "    </tr>\n",
       "    <tr>\n",
       "      <th>item_price</th>\n",
       "      <td>0.024576</td>\n",
       "      <td>0.010979</td>\n",
       "      <td>-0.041421</td>\n",
       "      <td>-0.049885</td>\n",
       "      <td>0.027374</td>\n",
       "      <td>0.004112</td>\n",
       "      <td>-0.040596</td>\n",
       "      <td>-0.115571</td>\n",
       "      <td>-0.054450</td>\n",
       "      <td>1.000000</td>\n",
       "      <td>-0.023427</td>\n",
       "    </tr>\n",
       "    <tr>\n",
       "      <th>user_city</th>\n",
       "      <td>-0.030031</td>\n",
       "      <td>-0.014934</td>\n",
       "      <td>0.045626</td>\n",
       "      <td>-0.005220</td>\n",
       "      <td>-0.028825</td>\n",
       "      <td>0.012086</td>\n",
       "      <td>-0.065638</td>\n",
       "      <td>0.008017</td>\n",
       "      <td>-0.005576</td>\n",
       "      <td>-0.023427</td>\n",
       "      <td>1.000000</td>\n",
       "    </tr>\n",
       "  </tbody>\n",
       "</table>\n",
       "</div>"
      ],
      "text/plain": [
       "               userId  timestamp    review      item    rating  helpfulness  \\\n",
       "userId       1.000000  -0.069176  0.007139 -0.005513  0.032506    -0.166136   \n",
       "timestamp   -0.069176   1.000000  0.007029 -0.003543  0.000369     0.014179   \n",
       "review       0.007139   0.007029  1.000000  0.163090 -0.036118    -0.028259   \n",
       "item        -0.005513  -0.003543  0.163090  1.000000  0.043388    -0.020433   \n",
       "rating       0.032506   0.000369 -0.036118  0.043388  1.000000    -0.007523   \n",
       "helpfulness -0.166136   0.014179 -0.028259 -0.020433 -0.007523     1.000000   \n",
       "gender      -0.058324  -0.003367 -0.037884  0.001925 -0.034337     0.075947   \n",
       "category    -0.041362   0.015009  0.001970 -0.045988 -0.163158    -0.013408   \n",
       "item_id     -0.005549  -0.004452  0.163544  0.999765  0.042890    -0.019882   \n",
       "item_price   0.024576   0.010979 -0.041421 -0.049885  0.027374     0.004112   \n",
       "user_city   -0.030031  -0.014934  0.045626 -0.005220 -0.028825     0.012086   \n",
       "\n",
       "               gender  category   item_id  item_price  user_city  \n",
       "userId      -0.058324 -0.041362 -0.005549    0.024576  -0.030031  \n",
       "timestamp   -0.003367  0.015009 -0.004452    0.010979  -0.014934  \n",
       "review      -0.037884  0.001970  0.163544   -0.041421   0.045626  \n",
       "item         0.001925 -0.045988  0.999765   -0.049885  -0.005220  \n",
       "rating      -0.034337 -0.163158  0.042890    0.027374  -0.028825  \n",
       "helpfulness  0.075947 -0.013408 -0.019882    0.004112   0.012086  \n",
       "gender       1.000000  0.022549  0.002370   -0.040596  -0.065638  \n",
       "category     0.022549  1.000000 -0.045268   -0.115571   0.008017  \n",
       "item_id      0.002370 -0.045268  1.000000   -0.054450  -0.005576  \n",
       "item_price  -0.040596 -0.115571 -0.054450    1.000000  -0.023427  \n",
       "user_city   -0.065638  0.008017 -0.005576   -0.023427   1.000000  "
      ]
     },
     "execution_count": 11,
     "metadata": {},
     "output_type": "execute_result"
    }
   ],
   "source": [
    "# Calculating the correlation between the variables\n",
    "\n",
    "cleaned_ecomm_data.corr()"
   ]
  },
  {
   "cell_type": "code",
   "execution_count": 12,
   "id": "de3cf8c8-6a0b-4c74-bf50-2d6714b11d7e",
   "metadata": {},
   "outputs": [
    {
     "name": "stdout",
     "output_type": "stream",
     "text": [
      "The correlation between helpfulness and rating:  -0.0075233377268442226\n"
     ]
    }
   ],
   "source": [
    "# Calculating the correlation coefficient between helpfulness and rating\n",
    "\n",
    "correlation = cleaned_ecomm_data.corr()\n",
    "correlation_helpfulness_rating = correlation.loc[\"helpfulness\", \"rating\"]\n",
    "print(\"The correlation between helpfulness and rating: \", correlation_helpfulness_rating)"
   ]
  },
  {
   "cell_type": "markdown",
   "id": "910e4eb7-c6fc-4980-bdda-f2f7acd3f6c1",
   "metadata": {},
   "source": [
    "##### **Analysis:**\n",
    "\n",
    "The correlation between helpfulness and rating is -0.0075233377268442226. This value suggests an extremely weak negative association between these two variables, which is statistically insignificant."
   ]
  },
  {
   "cell_type": "code",
   "execution_count": 13,
   "id": "d1d014d7-35d9-4bcf-878d-488f4b6b8305",
   "metadata": {},
   "outputs": [
    {
     "name": "stdout",
     "output_type": "stream",
     "text": [
      "The correlation between gender and rating:  -0.034336614242082654\n"
     ]
    }
   ],
   "source": [
    "# Calculating the correlation coefficient between gender and rating\n",
    "\n",
    "correlation = cleaned_ecomm_data.corr()\n",
    "correlation_gender_rating = correlation.loc[\"gender\", \"rating\"]\n",
    "print(\"The correlation between gender and rating: \", correlation_gender_rating)"
   ]
  },
  {
   "cell_type": "markdown",
   "id": "1c6d299b-20ff-4c8c-bde6-04ae5b1fb684",
   "metadata": {},
   "source": [
    "##### **Analysis:**\n",
    "\n",
    "The correlation between gender and rating is -0.034336614242082654. This value suggests a very weak negative association between these two variables."
   ]
  },
  {
   "cell_type": "code",
   "execution_count": 14,
   "id": "0f284471-6587-4df9-91de-bfffdae7c7c2",
   "metadata": {},
   "outputs": [
    {
     "name": "stdout",
     "output_type": "stream",
     "text": [
      "The correlation between category and rating:  -0.16315765340915675\n"
     ]
    }
   ],
   "source": [
    "# Calculating the correlation coefficient between category and rating\n",
    "\n",
    "correlation = cleaned_ecomm_data.corr()\n",
    "correlation_category_rating = correlation.loc[\"category\", \"rating\"]\n",
    "print(\"The correlation between category and rating: \", correlation_category_rating)"
   ]
  },
  {
   "cell_type": "markdown",
   "id": "5f9f9966-20df-463d-958c-2aae33535868",
   "metadata": {},
   "source": [
    "##### **Analysis:**\n",
    "\n",
    "The correlation between category and rating is -0.16315765340915675. This value suggests a weak negative association between these two variables."
   ]
  },
  {
   "cell_type": "code",
   "execution_count": 15,
   "id": "6ddb8f0c-2d09-4e4a-94a8-9406eced73e2",
   "metadata": {},
   "outputs": [
    {
     "name": "stdout",
     "output_type": "stream",
     "text": [
      "The correlation between review and rating:  -0.03611838655212241\n"
     ]
    }
   ],
   "source": [
    "# Calculating the correlation coefficient between review and rating\n",
    "\n",
    "correlation = cleaned_ecomm_data.corr()\n",
    "correlation_review_rating = correlation.loc[\"review\", \"rating\"]\n",
    "print(\"The correlation between review and rating: \", correlation_review_rating)"
   ]
  },
  {
   "cell_type": "markdown",
   "id": "a396b75c-707a-44c6-a5bd-ca839d0c184e",
   "metadata": {},
   "source": [
    "##### **Analysis:**\n",
    "\n",
    "The correlation between review and rating is -0.03611838655212241. This value suggests a very weak negative association between these two variables."
   ]
  },
  {
   "cell_type": "markdown",
   "id": "e2172a43-eeac-4103-8b6f-33201ecde246",
   "metadata": {},
   "source": [
    "### Analysing Correlations\n",
    "\n",
    "From the calculated correlations of helpfulness/gender/category/review regarding rating:\n",
    "* Category and rating are the most correlated variables/ features, with a correlation of -0.16315765340915675. This correlation suggests that as the category changes, there is a slight tendency for ratings to change in the opposite direction. Including category in the regression model may lead to better prediction as it captures the inherent differences in ratings across different product categories. The model can learn to assign higher or lower ratings based on the category of the item being rated.\n",
    "* Review and rating are the second most correlated variables/ features, with a correlation of -0.03611838655212241. This correlation indicates that more negative reviews might be associated with slightly lower ratings. Including review as a feature can improve prediction accuracy to some extent. The model may learn to adjust ratings based on the sentiment expressed in the reviews associated with each item. However, as the correlation is relatively weak, the impact on prediction results may not be substantial.\n",
    "* Gender and rating are the third most correlated variables/ features, with a correlation of -0.034336614242082654. This correlation implies there may be a slight difference in ratings based on gender, but it's not a significant factor. As a result, incorporating gender as a feature in the model may not contribute much to the prediction performance.\n",
    "* Helpfulness and rating are the least correlated variables/ features, with a correlation of -0.0075233377268442226. This correlation indicates that there is almost no linear relationship between these two. Therefore, using helpfulness alone might not be effective in predicting ratings accurately."
   ]
  },
  {
   "cell_type": "markdown",
   "id": "4myP5igslA_Y",
   "metadata": {
    "id": "4myP5igslA_Y"
   },
   "source": [
    "### Split Training and Testing Data\n",
    "* Machine learning models are trained to help make predictions for the future. Normally, we need to randomly split the dataset into training and testing sets, where we use the training set to train the model, and then leverage the well-trained model to make predictions on the testing set.\n",
    "* To further investigate whether the size of the training/testing data affects the model performance, please random split the data into training and testing sets with different sizes:\n",
    "    * Case 1: training data containing 10% of the entire data;\n",
    "    * Case 2: training data containing 90% of the entire data.\n",
    "* Print the shape of training and testing sets in the two cases."
   ]
  },
  {
   "cell_type": "markdown",
   "id": "f32086f0-72f8-4e2b-9ea7-87f1bf1c434b",
   "metadata": {
    "id": "JIDMig9blA_Y"
   },
   "source": [
    "### Case 1 - Training Data Containing 10% of the Entire Data"
   ]
  },
  {
   "cell_type": "code",
   "execution_count": 16,
   "id": "76529b81-43ea-40e9-b09a-998b247e6127",
   "metadata": {},
   "outputs": [
    {
     "name": "stdout",
     "output_type": "stream",
     "text": [
      "Trining set for Case 1: (268, 11)\n",
      "Testing set for Case 1: (2417, 11)\n"
     ]
    }
   ],
   "source": [
    "# Spliting the data into training and testing set based on case 1 condition\n",
    "\n",
    "train_1, test_1 = train_test_split(cleaned_ecomm_data, test_size = 0.9, random_state = 142)\n",
    "print(\"Trining set for Case 1:\", train_1.shape)\n",
    "print(\"Testing set for Case 1:\", test_1.shape)"
   ]
  },
  {
   "cell_type": "markdown",
   "id": "95e98959-f777-415c-9459-c64e87ce8df1",
   "metadata": {},
   "source": [
    "### Case 2 - Training Data Containing 90% of the Entire Data"
   ]
  },
  {
   "cell_type": "code",
   "execution_count": 17,
   "id": "32ba86b1-cb13-4c4b-b1f3-a26be68a8b5b",
   "metadata": {},
   "outputs": [
    {
     "name": "stdout",
     "output_type": "stream",
     "text": [
      "Trining set for Case 2: (2416, 11)\n",
      "Testing set for Case 2: (269, 11)\n"
     ]
    }
   ],
   "source": [
    "# Spliting the data into training and testing set based on case 2 condition\n",
    "\n",
    "train_2, test_2 = train_test_split(cleaned_ecomm_data, test_size = 0.1, random_state = 142)\n",
    "print(\"Trining set for Case 2:\", train_2.shape)\n",
    "print(\"Testing set for Case 2:\", test_2.shape)"
   ]
  },
  {
   "cell_type": "markdown",
   "id": "DjSsgT0BlA_Y",
   "metadata": {
    "id": "DjSsgT0BlA_Y"
   },
   "source": [
    "### Train Linear Regression Models with Feature Selection under Cases 1 & 2\n",
    "* When training a machine learning model for prediction, we may need to select the most important/correlated input features for more accurate results.\n",
    "* To investigate whether feature selection affects the model performance, please select two most correlated features and two least correlated features from helpfulness/gender/category/review regarding rating, respectively.\n",
    "* Train four linear regression models by following the conditions:\n",
    "    - (model-a) using the training/testing data in case 1 with two most correlated input features\n",
    "    - (model-b) using the training/testing data in case 1 with two least correlated input features\n",
    "    - (model-c) using the training/testing data in case 2 with two most correlated input features\n",
    "    - (model-d) using the training/testing data in case 2 with two least correlated input features\n",
    "* By doing this, we can verify the impacts of the size of traing/testing data on the model performance via comparing model-a and model-c (or model-b and model-d); meanwhile the impacts of feature selection can be validated via comparing model-a and model-b (or model-c and model-d).    "
   ]
  },
  {
   "cell_type": "markdown",
   "id": "97d41263-800d-4f98-8784-ca5325f91bc1",
   "metadata": {},
   "source": [
    "#### (model-a) using the training/testing data in case 1 with two most correlated input features"
   ]
  },
  {
   "cell_type": "code",
   "execution_count": 18,
   "id": "DASzPUATlA_Z",
   "metadata": {
    "id": "DASzPUATlA_Z"
   },
   "outputs": [],
   "source": [
    "# Building model-a\n",
    "\n",
    "x_train_a = train_1[[\"category\", \"review\"]]\n",
    "y_train_a = train_1[\"rating\"]\n",
    "x_test_a = train_1[[\"category\", \"review\"]]\n",
    "y_test_a = train_1[\"rating\"]"
   ]
  },
  {
   "cell_type": "code",
   "execution_count": 19,
   "id": "72c2cddb-1bea-41e2-b846-f188511f9298",
   "metadata": {},
   "outputs": [
    {
     "data": {
      "text/html": [
       "<style>#sk-container-id-1 {color: black;background-color: white;}#sk-container-id-1 pre{padding: 0;}#sk-container-id-1 div.sk-toggleable {background-color: white;}#sk-container-id-1 label.sk-toggleable__label {cursor: pointer;display: block;width: 100%;margin-bottom: 0;padding: 0.3em;box-sizing: border-box;text-align: center;}#sk-container-id-1 label.sk-toggleable__label-arrow:before {content: \"▸\";float: left;margin-right: 0.25em;color: #696969;}#sk-container-id-1 label.sk-toggleable__label-arrow:hover:before {color: black;}#sk-container-id-1 div.sk-estimator:hover label.sk-toggleable__label-arrow:before {color: black;}#sk-container-id-1 div.sk-toggleable__content {max-height: 0;max-width: 0;overflow: hidden;text-align: left;background-color: #f0f8ff;}#sk-container-id-1 div.sk-toggleable__content pre {margin: 0.2em;color: black;border-radius: 0.25em;background-color: #f0f8ff;}#sk-container-id-1 input.sk-toggleable__control:checked~div.sk-toggleable__content {max-height: 200px;max-width: 100%;overflow: auto;}#sk-container-id-1 input.sk-toggleable__control:checked~label.sk-toggleable__label-arrow:before {content: \"▾\";}#sk-container-id-1 div.sk-estimator input.sk-toggleable__control:checked~label.sk-toggleable__label {background-color: #d4ebff;}#sk-container-id-1 div.sk-label input.sk-toggleable__control:checked~label.sk-toggleable__label {background-color: #d4ebff;}#sk-container-id-1 input.sk-hidden--visually {border: 0;clip: rect(1px 1px 1px 1px);clip: rect(1px, 1px, 1px, 1px);height: 1px;margin: -1px;overflow: hidden;padding: 0;position: absolute;width: 1px;}#sk-container-id-1 div.sk-estimator {font-family: monospace;background-color: #f0f8ff;border: 1px dotted black;border-radius: 0.25em;box-sizing: border-box;margin-bottom: 0.5em;}#sk-container-id-1 div.sk-estimator:hover {background-color: #d4ebff;}#sk-container-id-1 div.sk-parallel-item::after {content: \"\";width: 100%;border-bottom: 1px solid gray;flex-grow: 1;}#sk-container-id-1 div.sk-label:hover label.sk-toggleable__label {background-color: #d4ebff;}#sk-container-id-1 div.sk-serial::before {content: \"\";position: absolute;border-left: 1px solid gray;box-sizing: border-box;top: 0;bottom: 0;left: 50%;z-index: 0;}#sk-container-id-1 div.sk-serial {display: flex;flex-direction: column;align-items: center;background-color: white;padding-right: 0.2em;padding-left: 0.2em;position: relative;}#sk-container-id-1 div.sk-item {position: relative;z-index: 1;}#sk-container-id-1 div.sk-parallel {display: flex;align-items: stretch;justify-content: center;background-color: white;position: relative;}#sk-container-id-1 div.sk-item::before, #sk-container-id-1 div.sk-parallel-item::before {content: \"\";position: absolute;border-left: 1px solid gray;box-sizing: border-box;top: 0;bottom: 0;left: 50%;z-index: -1;}#sk-container-id-1 div.sk-parallel-item {display: flex;flex-direction: column;z-index: 1;position: relative;background-color: white;}#sk-container-id-1 div.sk-parallel-item:first-child::after {align-self: flex-end;width: 50%;}#sk-container-id-1 div.sk-parallel-item:last-child::after {align-self: flex-start;width: 50%;}#sk-container-id-1 div.sk-parallel-item:only-child::after {width: 0;}#sk-container-id-1 div.sk-dashed-wrapped {border: 1px dashed gray;margin: 0 0.4em 0.5em 0.4em;box-sizing: border-box;padding-bottom: 0.4em;background-color: white;}#sk-container-id-1 div.sk-label label {font-family: monospace;font-weight: bold;display: inline-block;line-height: 1.2em;}#sk-container-id-1 div.sk-label-container {text-align: center;}#sk-container-id-1 div.sk-container {/* jupyter's `normalize.less` sets `[hidden] { display: none; }` but bootstrap.min.css set `[hidden] { display: none !important; }` so we also need the `!important` here to be able to override the default hidden behavior on the sphinx rendered scikit-learn.org. See: https://github.com/scikit-learn/scikit-learn/issues/21755 */display: inline-block !important;position: relative;}#sk-container-id-1 div.sk-text-repr-fallback {display: none;}</style><div id=\"sk-container-id-1\" class=\"sk-top-container\"><div class=\"sk-text-repr-fallback\"><pre>LinearRegression()</pre><b>In a Jupyter environment, please rerun this cell to show the HTML representation or trust the notebook. <br />On GitHub, the HTML representation is unable to render, please try loading this page with nbviewer.org.</b></div><div class=\"sk-container\" hidden><div class=\"sk-item\"><div class=\"sk-estimator sk-toggleable\"><input class=\"sk-toggleable__control sk-hidden--visually\" id=\"sk-estimator-id-1\" type=\"checkbox\" checked><label for=\"sk-estimator-id-1\" class=\"sk-toggleable__label sk-toggleable__label-arrow\">LinearRegression</label><div class=\"sk-toggleable__content\"><pre>LinearRegression()</pre></div></div></div></div></div>"
      ],
      "text/plain": [
       "LinearRegression()"
      ]
     },
     "execution_count": 19,
     "metadata": {},
     "output_type": "execute_result"
    }
   ],
   "source": [
    "# Training model-a\n",
    "\n",
    "reg_a = linear_model.LinearRegression()\n",
    "reg_a.fit(x_train_a, y_train_a)"
   ]
  },
  {
   "cell_type": "markdown",
   "id": "ea7dc241-28c3-4da4-8331-02040347fc95",
   "metadata": {},
   "source": [
    "#### (model-b) using the training/testing data in case 1 with two least correlated input features"
   ]
  },
  {
   "cell_type": "code",
   "execution_count": 20,
   "id": "78249f90-cce6-4d91-8783-61c30fad0425",
   "metadata": {},
   "outputs": [],
   "source": [
    "# Building model-b\n",
    "\n",
    "x_train_b = train_1[[\"helpfulness\", \"gender\"]]\n",
    "y_train_b = train_1[\"rating\"]\n",
    "x_test_b = train_1[[\"helpfulness\", \"gender\"]]\n",
    "y_test_b = train_1[\"rating\"]"
   ]
  },
  {
   "cell_type": "code",
   "execution_count": 21,
   "id": "f1cc39c2-f88d-4fac-90c5-5f37d46d0cb9",
   "metadata": {},
   "outputs": [
    {
     "data": {
      "text/html": [
       "<style>#sk-container-id-2 {color: black;background-color: white;}#sk-container-id-2 pre{padding: 0;}#sk-container-id-2 div.sk-toggleable {background-color: white;}#sk-container-id-2 label.sk-toggleable__label {cursor: pointer;display: block;width: 100%;margin-bottom: 0;padding: 0.3em;box-sizing: border-box;text-align: center;}#sk-container-id-2 label.sk-toggleable__label-arrow:before {content: \"▸\";float: left;margin-right: 0.25em;color: #696969;}#sk-container-id-2 label.sk-toggleable__label-arrow:hover:before {color: black;}#sk-container-id-2 div.sk-estimator:hover label.sk-toggleable__label-arrow:before {color: black;}#sk-container-id-2 div.sk-toggleable__content {max-height: 0;max-width: 0;overflow: hidden;text-align: left;background-color: #f0f8ff;}#sk-container-id-2 div.sk-toggleable__content pre {margin: 0.2em;color: black;border-radius: 0.25em;background-color: #f0f8ff;}#sk-container-id-2 input.sk-toggleable__control:checked~div.sk-toggleable__content {max-height: 200px;max-width: 100%;overflow: auto;}#sk-container-id-2 input.sk-toggleable__control:checked~label.sk-toggleable__label-arrow:before {content: \"▾\";}#sk-container-id-2 div.sk-estimator input.sk-toggleable__control:checked~label.sk-toggleable__label {background-color: #d4ebff;}#sk-container-id-2 div.sk-label input.sk-toggleable__control:checked~label.sk-toggleable__label {background-color: #d4ebff;}#sk-container-id-2 input.sk-hidden--visually {border: 0;clip: rect(1px 1px 1px 1px);clip: rect(1px, 1px, 1px, 1px);height: 1px;margin: -1px;overflow: hidden;padding: 0;position: absolute;width: 1px;}#sk-container-id-2 div.sk-estimator {font-family: monospace;background-color: #f0f8ff;border: 1px dotted black;border-radius: 0.25em;box-sizing: border-box;margin-bottom: 0.5em;}#sk-container-id-2 div.sk-estimator:hover {background-color: #d4ebff;}#sk-container-id-2 div.sk-parallel-item::after {content: \"\";width: 100%;border-bottom: 1px solid gray;flex-grow: 1;}#sk-container-id-2 div.sk-label:hover label.sk-toggleable__label {background-color: #d4ebff;}#sk-container-id-2 div.sk-serial::before {content: \"\";position: absolute;border-left: 1px solid gray;box-sizing: border-box;top: 0;bottom: 0;left: 50%;z-index: 0;}#sk-container-id-2 div.sk-serial {display: flex;flex-direction: column;align-items: center;background-color: white;padding-right: 0.2em;padding-left: 0.2em;position: relative;}#sk-container-id-2 div.sk-item {position: relative;z-index: 1;}#sk-container-id-2 div.sk-parallel {display: flex;align-items: stretch;justify-content: center;background-color: white;position: relative;}#sk-container-id-2 div.sk-item::before, #sk-container-id-2 div.sk-parallel-item::before {content: \"\";position: absolute;border-left: 1px solid gray;box-sizing: border-box;top: 0;bottom: 0;left: 50%;z-index: -1;}#sk-container-id-2 div.sk-parallel-item {display: flex;flex-direction: column;z-index: 1;position: relative;background-color: white;}#sk-container-id-2 div.sk-parallel-item:first-child::after {align-self: flex-end;width: 50%;}#sk-container-id-2 div.sk-parallel-item:last-child::after {align-self: flex-start;width: 50%;}#sk-container-id-2 div.sk-parallel-item:only-child::after {width: 0;}#sk-container-id-2 div.sk-dashed-wrapped {border: 1px dashed gray;margin: 0 0.4em 0.5em 0.4em;box-sizing: border-box;padding-bottom: 0.4em;background-color: white;}#sk-container-id-2 div.sk-label label {font-family: monospace;font-weight: bold;display: inline-block;line-height: 1.2em;}#sk-container-id-2 div.sk-label-container {text-align: center;}#sk-container-id-2 div.sk-container {/* jupyter's `normalize.less` sets `[hidden] { display: none; }` but bootstrap.min.css set `[hidden] { display: none !important; }` so we also need the `!important` here to be able to override the default hidden behavior on the sphinx rendered scikit-learn.org. See: https://github.com/scikit-learn/scikit-learn/issues/21755 */display: inline-block !important;position: relative;}#sk-container-id-2 div.sk-text-repr-fallback {display: none;}</style><div id=\"sk-container-id-2\" class=\"sk-top-container\"><div class=\"sk-text-repr-fallback\"><pre>LinearRegression()</pre><b>In a Jupyter environment, please rerun this cell to show the HTML representation or trust the notebook. <br />On GitHub, the HTML representation is unable to render, please try loading this page with nbviewer.org.</b></div><div class=\"sk-container\" hidden><div class=\"sk-item\"><div class=\"sk-estimator sk-toggleable\"><input class=\"sk-toggleable__control sk-hidden--visually\" id=\"sk-estimator-id-2\" type=\"checkbox\" checked><label for=\"sk-estimator-id-2\" class=\"sk-toggleable__label sk-toggleable__label-arrow\">LinearRegression</label><div class=\"sk-toggleable__content\"><pre>LinearRegression()</pre></div></div></div></div></div>"
      ],
      "text/plain": [
       "LinearRegression()"
      ]
     },
     "execution_count": 21,
     "metadata": {},
     "output_type": "execute_result"
    }
   ],
   "source": [
    "# Training model-b\n",
    "\n",
    "reg_b = linear_model.LinearRegression()\n",
    "reg_b.fit(x_train_b, y_train_b)"
   ]
  },
  {
   "cell_type": "markdown",
   "id": "41946db3-c36d-471a-94d4-42e894590d1d",
   "metadata": {},
   "source": [
    "#### (model-c) using the training/testing data in case 2 with two most correlated input features"
   ]
  },
  {
   "cell_type": "code",
   "execution_count": 22,
   "id": "7cd025ec-86ab-4714-a40b-f16bdde85b4f",
   "metadata": {},
   "outputs": [],
   "source": [
    "# Building model-c\n",
    "\n",
    "x_train_c = train_2[[\"category\", \"review\"]]\n",
    "y_train_c = train_2[\"rating\"]\n",
    "x_test_c = train_2[[\"category\", \"review\"]]\n",
    "y_test_c = train_2[\"rating\"]"
   ]
  },
  {
   "cell_type": "code",
   "execution_count": 23,
   "id": "5c63610e-f368-4e7d-9143-2c41cf8731b3",
   "metadata": {},
   "outputs": [
    {
     "data": {
      "text/html": [
       "<style>#sk-container-id-3 {color: black;background-color: white;}#sk-container-id-3 pre{padding: 0;}#sk-container-id-3 div.sk-toggleable {background-color: white;}#sk-container-id-3 label.sk-toggleable__label {cursor: pointer;display: block;width: 100%;margin-bottom: 0;padding: 0.3em;box-sizing: border-box;text-align: center;}#sk-container-id-3 label.sk-toggleable__label-arrow:before {content: \"▸\";float: left;margin-right: 0.25em;color: #696969;}#sk-container-id-3 label.sk-toggleable__label-arrow:hover:before {color: black;}#sk-container-id-3 div.sk-estimator:hover label.sk-toggleable__label-arrow:before {color: black;}#sk-container-id-3 div.sk-toggleable__content {max-height: 0;max-width: 0;overflow: hidden;text-align: left;background-color: #f0f8ff;}#sk-container-id-3 div.sk-toggleable__content pre {margin: 0.2em;color: black;border-radius: 0.25em;background-color: #f0f8ff;}#sk-container-id-3 input.sk-toggleable__control:checked~div.sk-toggleable__content {max-height: 200px;max-width: 100%;overflow: auto;}#sk-container-id-3 input.sk-toggleable__control:checked~label.sk-toggleable__label-arrow:before {content: \"▾\";}#sk-container-id-3 div.sk-estimator input.sk-toggleable__control:checked~label.sk-toggleable__label {background-color: #d4ebff;}#sk-container-id-3 div.sk-label input.sk-toggleable__control:checked~label.sk-toggleable__label {background-color: #d4ebff;}#sk-container-id-3 input.sk-hidden--visually {border: 0;clip: rect(1px 1px 1px 1px);clip: rect(1px, 1px, 1px, 1px);height: 1px;margin: -1px;overflow: hidden;padding: 0;position: absolute;width: 1px;}#sk-container-id-3 div.sk-estimator {font-family: monospace;background-color: #f0f8ff;border: 1px dotted black;border-radius: 0.25em;box-sizing: border-box;margin-bottom: 0.5em;}#sk-container-id-3 div.sk-estimator:hover {background-color: #d4ebff;}#sk-container-id-3 div.sk-parallel-item::after {content: \"\";width: 100%;border-bottom: 1px solid gray;flex-grow: 1;}#sk-container-id-3 div.sk-label:hover label.sk-toggleable__label {background-color: #d4ebff;}#sk-container-id-3 div.sk-serial::before {content: \"\";position: absolute;border-left: 1px solid gray;box-sizing: border-box;top: 0;bottom: 0;left: 50%;z-index: 0;}#sk-container-id-3 div.sk-serial {display: flex;flex-direction: column;align-items: center;background-color: white;padding-right: 0.2em;padding-left: 0.2em;position: relative;}#sk-container-id-3 div.sk-item {position: relative;z-index: 1;}#sk-container-id-3 div.sk-parallel {display: flex;align-items: stretch;justify-content: center;background-color: white;position: relative;}#sk-container-id-3 div.sk-item::before, #sk-container-id-3 div.sk-parallel-item::before {content: \"\";position: absolute;border-left: 1px solid gray;box-sizing: border-box;top: 0;bottom: 0;left: 50%;z-index: -1;}#sk-container-id-3 div.sk-parallel-item {display: flex;flex-direction: column;z-index: 1;position: relative;background-color: white;}#sk-container-id-3 div.sk-parallel-item:first-child::after {align-self: flex-end;width: 50%;}#sk-container-id-3 div.sk-parallel-item:last-child::after {align-self: flex-start;width: 50%;}#sk-container-id-3 div.sk-parallel-item:only-child::after {width: 0;}#sk-container-id-3 div.sk-dashed-wrapped {border: 1px dashed gray;margin: 0 0.4em 0.5em 0.4em;box-sizing: border-box;padding-bottom: 0.4em;background-color: white;}#sk-container-id-3 div.sk-label label {font-family: monospace;font-weight: bold;display: inline-block;line-height: 1.2em;}#sk-container-id-3 div.sk-label-container {text-align: center;}#sk-container-id-3 div.sk-container {/* jupyter's `normalize.less` sets `[hidden] { display: none; }` but bootstrap.min.css set `[hidden] { display: none !important; }` so we also need the `!important` here to be able to override the default hidden behavior on the sphinx rendered scikit-learn.org. See: https://github.com/scikit-learn/scikit-learn/issues/21755 */display: inline-block !important;position: relative;}#sk-container-id-3 div.sk-text-repr-fallback {display: none;}</style><div id=\"sk-container-id-3\" class=\"sk-top-container\"><div class=\"sk-text-repr-fallback\"><pre>LinearRegression()</pre><b>In a Jupyter environment, please rerun this cell to show the HTML representation or trust the notebook. <br />On GitHub, the HTML representation is unable to render, please try loading this page with nbviewer.org.</b></div><div class=\"sk-container\" hidden><div class=\"sk-item\"><div class=\"sk-estimator sk-toggleable\"><input class=\"sk-toggleable__control sk-hidden--visually\" id=\"sk-estimator-id-3\" type=\"checkbox\" checked><label for=\"sk-estimator-id-3\" class=\"sk-toggleable__label sk-toggleable__label-arrow\">LinearRegression</label><div class=\"sk-toggleable__content\"><pre>LinearRegression()</pre></div></div></div></div></div>"
      ],
      "text/plain": [
       "LinearRegression()"
      ]
     },
     "execution_count": 23,
     "metadata": {},
     "output_type": "execute_result"
    }
   ],
   "source": [
    "# Training model-c\n",
    "\n",
    "reg_c = linear_model.LinearRegression()\n",
    "reg_c.fit(x_train_c, y_train_c)"
   ]
  },
  {
   "cell_type": "markdown",
   "id": "93bbfaa0-2220-4844-9492-90db49c8b8d2",
   "metadata": {},
   "source": [
    "#### (model-d) using the training/testing data in case 2 with two least correlated input features"
   ]
  },
  {
   "cell_type": "code",
   "execution_count": 24,
   "id": "56d679ea-e3c3-4360-b50c-50ae63e70f3d",
   "metadata": {},
   "outputs": [],
   "source": [
    "# Building model-d\n",
    "\n",
    "x_train_d = train_2[[\"helpfulness\", \"gender\"]]\n",
    "y_train_d = train_2[\"rating\"]\n",
    "x_test_d = train_2[[\"helpfulness\", \"gender\"]]\n",
    "y_test_d = train_2[\"rating\"]"
   ]
  },
  {
   "cell_type": "code",
   "execution_count": 25,
   "id": "3c7bcab4-17b8-46b8-aee0-9b110f015e36",
   "metadata": {},
   "outputs": [
    {
     "data": {
      "text/html": [
       "<style>#sk-container-id-4 {color: black;background-color: white;}#sk-container-id-4 pre{padding: 0;}#sk-container-id-4 div.sk-toggleable {background-color: white;}#sk-container-id-4 label.sk-toggleable__label {cursor: pointer;display: block;width: 100%;margin-bottom: 0;padding: 0.3em;box-sizing: border-box;text-align: center;}#sk-container-id-4 label.sk-toggleable__label-arrow:before {content: \"▸\";float: left;margin-right: 0.25em;color: #696969;}#sk-container-id-4 label.sk-toggleable__label-arrow:hover:before {color: black;}#sk-container-id-4 div.sk-estimator:hover label.sk-toggleable__label-arrow:before {color: black;}#sk-container-id-4 div.sk-toggleable__content {max-height: 0;max-width: 0;overflow: hidden;text-align: left;background-color: #f0f8ff;}#sk-container-id-4 div.sk-toggleable__content pre {margin: 0.2em;color: black;border-radius: 0.25em;background-color: #f0f8ff;}#sk-container-id-4 input.sk-toggleable__control:checked~div.sk-toggleable__content {max-height: 200px;max-width: 100%;overflow: auto;}#sk-container-id-4 input.sk-toggleable__control:checked~label.sk-toggleable__label-arrow:before {content: \"▾\";}#sk-container-id-4 div.sk-estimator input.sk-toggleable__control:checked~label.sk-toggleable__label {background-color: #d4ebff;}#sk-container-id-4 div.sk-label input.sk-toggleable__control:checked~label.sk-toggleable__label {background-color: #d4ebff;}#sk-container-id-4 input.sk-hidden--visually {border: 0;clip: rect(1px 1px 1px 1px);clip: rect(1px, 1px, 1px, 1px);height: 1px;margin: -1px;overflow: hidden;padding: 0;position: absolute;width: 1px;}#sk-container-id-4 div.sk-estimator {font-family: monospace;background-color: #f0f8ff;border: 1px dotted black;border-radius: 0.25em;box-sizing: border-box;margin-bottom: 0.5em;}#sk-container-id-4 div.sk-estimator:hover {background-color: #d4ebff;}#sk-container-id-4 div.sk-parallel-item::after {content: \"\";width: 100%;border-bottom: 1px solid gray;flex-grow: 1;}#sk-container-id-4 div.sk-label:hover label.sk-toggleable__label {background-color: #d4ebff;}#sk-container-id-4 div.sk-serial::before {content: \"\";position: absolute;border-left: 1px solid gray;box-sizing: border-box;top: 0;bottom: 0;left: 50%;z-index: 0;}#sk-container-id-4 div.sk-serial {display: flex;flex-direction: column;align-items: center;background-color: white;padding-right: 0.2em;padding-left: 0.2em;position: relative;}#sk-container-id-4 div.sk-item {position: relative;z-index: 1;}#sk-container-id-4 div.sk-parallel {display: flex;align-items: stretch;justify-content: center;background-color: white;position: relative;}#sk-container-id-4 div.sk-item::before, #sk-container-id-4 div.sk-parallel-item::before {content: \"\";position: absolute;border-left: 1px solid gray;box-sizing: border-box;top: 0;bottom: 0;left: 50%;z-index: -1;}#sk-container-id-4 div.sk-parallel-item {display: flex;flex-direction: column;z-index: 1;position: relative;background-color: white;}#sk-container-id-4 div.sk-parallel-item:first-child::after {align-self: flex-end;width: 50%;}#sk-container-id-4 div.sk-parallel-item:last-child::after {align-self: flex-start;width: 50%;}#sk-container-id-4 div.sk-parallel-item:only-child::after {width: 0;}#sk-container-id-4 div.sk-dashed-wrapped {border: 1px dashed gray;margin: 0 0.4em 0.5em 0.4em;box-sizing: border-box;padding-bottom: 0.4em;background-color: white;}#sk-container-id-4 div.sk-label label {font-family: monospace;font-weight: bold;display: inline-block;line-height: 1.2em;}#sk-container-id-4 div.sk-label-container {text-align: center;}#sk-container-id-4 div.sk-container {/* jupyter's `normalize.less` sets `[hidden] { display: none; }` but bootstrap.min.css set `[hidden] { display: none !important; }` so we also need the `!important` here to be able to override the default hidden behavior on the sphinx rendered scikit-learn.org. See: https://github.com/scikit-learn/scikit-learn/issues/21755 */display: inline-block !important;position: relative;}#sk-container-id-4 div.sk-text-repr-fallback {display: none;}</style><div id=\"sk-container-id-4\" class=\"sk-top-container\"><div class=\"sk-text-repr-fallback\"><pre>LinearRegression()</pre><b>In a Jupyter environment, please rerun this cell to show the HTML representation or trust the notebook. <br />On GitHub, the HTML representation is unable to render, please try loading this page with nbviewer.org.</b></div><div class=\"sk-container\" hidden><div class=\"sk-item\"><div class=\"sk-estimator sk-toggleable\"><input class=\"sk-toggleable__control sk-hidden--visually\" id=\"sk-estimator-id-4\" type=\"checkbox\" checked><label for=\"sk-estimator-id-4\" class=\"sk-toggleable__label sk-toggleable__label-arrow\">LinearRegression</label><div class=\"sk-toggleable__content\"><pre>LinearRegression()</pre></div></div></div></div></div>"
      ],
      "text/plain": [
       "LinearRegression()"
      ]
     },
     "execution_count": 25,
     "metadata": {},
     "output_type": "execute_result"
    }
   ],
   "source": [
    "# Training model-d\n",
    "\n",
    "reg_d = linear_model.LinearRegression()\n",
    "reg_d.fit(x_train_d, y_train_d)"
   ]
  },
  {
   "cell_type": "markdown",
   "id": "KATSn7hYlA_Z",
   "metadata": {
    "id": "KATSn7hYlA_Z"
   },
   "source": [
    "### Evaluate Models\n",
    "* Evaluate the performance of the four models with two metrics, including MSE and Root MSE\n",
    "* Print the results of the four models regarding the two metrics"
   ]
  },
  {
   "cell_type": "markdown",
   "id": "86050554-31a9-4f93-a609-806fd50cb95a",
   "metadata": {
    "id": "4fU8GPS9lA_Z"
   },
   "source": [
    "#### Evaluating model-a"
   ]
  },
  {
   "cell_type": "code",
   "execution_count": 26,
   "id": "74da2818-2db6-4173-b8d7-638d48426007",
   "metadata": {
    "id": "4fU8GPS9lA_Z"
   },
   "outputs": [
    {
     "name": "stdout",
     "output_type": "stream",
     "text": [
      "Mean Squared Error of model-a: 1.768624414593739\n",
      "Rooted Mean Squared Error of model-a: 1.3298963924282745\n",
      "R Squared of model-a: 0.048402664196232625\n"
     ]
    }
   ],
   "source": [
    "# Evaluating model-a\n",
    "\n",
    "a_predicted = reg_a.predict(x_test_a)\n",
    "a_mse = ((np.array(y_test_a) - a_predicted) ** 2).sum()/len(y_test_a)\n",
    "a_rmse = np.sqrt(a_mse)\n",
    "a_r2 = r2_score(y_test_a, a_predicted)\n",
    "print(\"Mean Squared Error of model-a:\", a_mse)\n",
    "print(\"Rooted Mean Squared Error of model-a:\", a_rmse)\n",
    "print(\"R Squared of model-a:\", a_r2)"
   ]
  },
  {
   "cell_type": "markdown",
   "id": "8f1064c3-c845-428d-9b48-b987e0e5bf04",
   "metadata": {},
   "source": [
    "#### Evaluating model-b"
   ]
  },
  {
   "cell_type": "code",
   "execution_count": 27,
   "id": "8e30bee3-c68b-4852-88c1-496cdc3eaba0",
   "metadata": {},
   "outputs": [
    {
     "name": "stdout",
     "output_type": "stream",
     "text": [
      "Mean Squared Error of model-b: 1.829052830573724\n",
      "Rooted Mean Squared Error of model-b: 1.35242479664258\n",
      "R Squared of model-b: 0.01588953185512776\n"
     ]
    }
   ],
   "source": [
    "# Evaluating model-b\n",
    "\n",
    "b_predicted = reg_b.predict(x_test_b)\n",
    "b_mse = ((np.array(y_test_b) - b_predicted) ** 2).sum()/len(y_test_b)\n",
    "b_rmse = np.sqrt(b_mse)\n",
    "b_r2 = r2_score(y_test_b, b_predicted)\n",
    "print(\"Mean Squared Error of model-b:\", b_mse)\n",
    "print(\"Rooted Mean Squared Error of model-b:\", b_rmse)\n",
    "print(\"R Squared of model-b:\", b_r2)"
   ]
  },
  {
   "cell_type": "markdown",
   "id": "fe8e87c3-9507-41ab-9477-18b937b7e962",
   "metadata": {},
   "source": [
    "#### Evaluating model-c"
   ]
  },
  {
   "cell_type": "code",
   "execution_count": 28,
   "id": "c97469dd-01ed-4370-99b4-6e9a85b47c4d",
   "metadata": {},
   "outputs": [
    {
     "name": "stdout",
     "output_type": "stream",
     "text": [
      "Mean Squared Error of model-c: 1.7619080458947187\n",
      "Rooted Mean Squared Error of model-c: 1.327368843198724\n",
      "R Squared of model-c: 0.0280991044968949\n"
     ]
    }
   ],
   "source": [
    "# Evaluating model-c\n",
    "\n",
    "c_predicted = reg_c.predict(x_test_c)\n",
    "c_mse = ((np.array(y_test_c) - c_predicted) ** 2).sum()/len(y_test_c)\n",
    "c_rmse = np.sqrt(c_mse)\n",
    "c_r2 = r2_score(y_test_c, c_predicted)\n",
    "print(\"Mean Squared Error of model-c:\", c_mse)\n",
    "print(\"Rooted Mean Squared Error of model-c:\", c_rmse)\n",
    "print(\"R Squared of model-c:\", c_r2)"
   ]
  },
  {
   "cell_type": "markdown",
   "id": "85d4398b-31f4-490a-897d-ce6c89452913",
   "metadata": {},
   "source": [
    "#### Evaluating model-d"
   ]
  },
  {
   "cell_type": "code",
   "execution_count": 29,
   "id": "a1e59b9b-1fb2-4ae6-bfe3-7494d2d0e005",
   "metadata": {},
   "outputs": [
    {
     "name": "stdout",
     "output_type": "stream",
     "text": [
      "Mean Squared Error of model-d: 1.8096390081052867\n",
      "Rooted Mean Squared Error of model-d: 1.345228236436214\n",
      "R Squared of model-d: 0.0017698275384493423\n"
     ]
    }
   ],
   "source": [
    "# Evaluating model-d\n",
    "\n",
    "d_predicted = reg_d.predict(x_test_d)\n",
    "d_mse = ((np.array(y_test_d) - d_predicted) ** 2).sum()/len(y_test_d)\n",
    "d_rmse = np.sqrt(d_mse)\n",
    "d_r2 = r2_score(y_test_d, d_predicted)\n",
    "print(\"Mean Squared Error of model-d:\", d_mse)\n",
    "print(\"Rooted Mean Squared Error of model-d:\", d_rmse)\n",
    "print(\"R Squared of model-d:\", d_r2)"
   ]
  },
  {
   "cell_type": "code",
   "execution_count": 30,
   "id": "3TNAIGDilA_a",
   "metadata": {
    "id": "3TNAIGDilA_a"
   },
   "outputs": [],
   "source": [
    "# Creating new data frame for the models with their corresponding MSE, R Squared, and RMSE values\n",
    "\n",
    "linear_regression_models = {\n",
    "    \"models\" : [\"model-a\", \"model-b\", \"model-c\", \"model-d\"],\n",
    "    \"mse\" : [a_mse, b_mse, c_mse, d_mse],\n",
    "    \"rmse\" :[a_rmse, b_rmse, c_rmse, d_rmse],\n",
    "    \"r2\" : [a_r2, b_r2, c_r2, d_r2]    \n",
    "}"
   ]
  },
  {
   "cell_type": "code",
   "execution_count": 31,
   "id": "16c35e07-f5dc-4dce-a12b-abec2d049f15",
   "metadata": {},
   "outputs": [
    {
     "name": "stdout",
     "output_type": "stream",
     "text": [
      "    models       mse      rmse        r2\n",
      "0  model-a  1.768624  1.329896  0.048403\n",
      "1  model-b  1.829053  1.352425  0.015890\n",
      "2  model-c  1.761908  1.327369  0.028099\n",
      "3  model-d  1.809639  1.345228  0.001770\n"
     ]
    }
   ],
   "source": [
    "# Printing the new data frame\n",
    "\n",
    "models = pd.DataFrame(linear_regression_models)\n",
    "print(models)"
   ]
  },
  {
   "cell_type": "markdown",
   "id": "Y9jx-eY6lA_a",
   "metadata": {
    "id": "Y9jx-eY6lA_a"
   },
   "source": [
    "### Visualize, Compare and Analyze the Results\n",
    "* Visulize the results, and perform ___insightful analysis___ on the obtained results. For better visualization, you may need to carefully set the scale for the y-axis.\n",
    "* Normally, the model trained with most correlated features and more training data will get better results. Do you obtain the similar observations? If not, please ___explain the possible reasons___."
   ]
  },
  {
   "cell_type": "code",
   "execution_count": 32,
   "id": "e78678f7-f17c-4887-ad10-87ad542d7435",
   "metadata": {},
   "outputs": [
    {
     "data": {
      "image/png": "[encoded data removed]",
      "text/plain": [
       "<Figure size 2000x600 with 3 Axes>"
      ]
     },
     "metadata": {},
     "output_type": "display_data"
    }
   ],
   "source": [
    "# Plotting of the MSE, RMSE, and R Squared values for each model\n",
    "\n",
    "# Setting the style for Seaborn\n",
    "sns.set(style = \"whitegrid\", font_scale = 1.7)\n",
    "\n",
    "# Creating the figure and axes\n",
    "fig, axs = plt.subplots(1, 3, figsize = (20, 6))\n",
    "\n",
    "# Plotting Mean Squared Error values\n",
    "sns.barplot(x = models[\"models\"], y = models[\"mse\"], ax = axs[0])\n",
    "axs[0].set_title(\"Mean Squared Error values of the models\")\n",
    "axs[0].set_xlabel(\"Models\")\n",
    "axs[0].set_ylabel(\"Mean Squared Error\")\n",
    "\n",
    "# Plotting Rooted Mean Squared Error values\n",
    "sns.barplot(x = models[\"models\"], y = models[\"rmse\"], ax = axs[1])\n",
    "axs[1].set_title(\"Rooted Mean Squared Error values of the models\")\n",
    "axs[1].set_xlabel(\"Models\")\n",
    "axs[1].set_ylabel(\"Rooted Mean Squared Error\")\n",
    "\n",
    "# Plotting R Squared values\n",
    "sns.barplot(x = models[\"models\"], y = models[\"r2\"], ax = axs[2])\n",
    "axs[2].set_title(\"R Squared values of the models\")\n",
    "axs[2].set_xlabel(\"Models\")\n",
    "axs[2].set_ylabel(\"R Squared\")\n",
    "\n",
    "# Adjusting layout to prevent overlap\n",
    "plt.tight_layout()  \n",
    "\n",
    "plt.show()"
   ]
  },
  {
   "cell_type": "markdown",
   "id": "ccb593ea-e9db-40ef-9802-305552907a24",
   "metadata": {},
   "source": [
    "### Analysis of the Visualization\n",
    "\n",
    "Model-c, with the most correlated features with rating (category and review) and more training data (90%), has the lowest mean squared error and rooted mean squared error, which indicates that the model's predictions are closer to true values, very closely followed by model-a. However, model-a, with the most correlated features with rating (category and review) and less training data (10%), has the highest R-squared value, which implies model-a is a better fit to the model, followed by model-c."
   ]
  }
 ],
 "metadata": {
  "colab": {
   "provenance": []
  },
  "kernelspec": {
   "display_name": "Python 3 (ipykernel)",
   "language": "python",
   "name": "python3"
  },
  "language_info": {
   "codemirror_mode": {
    "name": "ipython",
    "version": 3
   },
   "file_extension": ".py",
   "mimetype": "text/x-python",
   "name": "python",
   "nbconvert_exporter": "python",
   "pygments_lexer": "ipython3",
   "version": "3.11.7"
  }
 },
 "nbformat": 4,
 "nbformat_minor": 5
}
